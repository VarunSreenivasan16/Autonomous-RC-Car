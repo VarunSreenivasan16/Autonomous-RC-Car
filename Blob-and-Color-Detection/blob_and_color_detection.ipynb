{
  "nbformat": 4,
  "nbformat_minor": 0,
  "metadata": {
    "colab": {
      "name": "blob_and_color_detection.ipynb",
      "provenance": [],
      "collapsed_sections": []
    },
    "kernelspec": {
      "name": "python3",
      "display_name": "Python 3"
    },
    "language_info": {
      "name": "python"
    }
  },
  "cells": [
    {
      "cell_type": "code",
      "execution_count": null,
      "metadata": {
        "id": "2vyOgti_ew1U"
      },
      "outputs": [],
      "source": [
        "import cv2\n",
        "import numpy as np\n",
        "import matplotlib.pyplot as plt\n",
        "import math"
      ]
    },
    {
      "cell_type": "code",
      "source": [
        "def main(image, annotation):\n",
        "\n",
        "  orig_image = cv2.imread(image)[annotation[1]: annotation[3], annotation[0]: annotation[2]]\n",
        "  orig_image = cv2.cvtColor(orig_image, cv2.COLOR_BGR2RGB)\n",
        "\n",
        "  plt.figure()\n",
        "  plt.imshow(orig_image)\n",
        "  \n",
        "  boundaries = ([150, 0, 0], [255, 255, 255])\n",
        "  circles = generate_circles(image, annotation)\n",
        "  \n",
        "  if(circles is None):\n",
        "    print(\"Error\")\n",
        "    return\n",
        "  \n",
        "  circles = circles[0]\n",
        "  circles = sorted(circles, key=lambda x: x[1])\n",
        " \n",
        "  if(len(circles) == 0):\n",
        "    print(\"Error\")\n",
        "    return\n",
        "  \n",
        "  for circle in circles:\n",
        "    \n",
        "    x_coor = circle[0]\n",
        "    y_coor = circle[1]\n",
        "\n",
        "    if(y_coor < 0.2 * orig_image.shape[0]):\n",
        "      red_present = check_red_yellow(orig_image, boundaries, circle)\n",
        "      \n",
        "      if(red_present):\n",
        "        print('Red')\n",
        "        return\n",
        "    \n",
        "    elif(y_coor > 0.2 * orig_image.shape[0] and y_coor < 0.5 * orig_image.shape[0]):\n",
        "        yellow_present = check_red_yellow(orig_image, boundaries, circle)\n",
        "       \n",
        "        if(yellow_present):\n",
        "          print('Yellow')\n",
        "          return\n",
        "    \n",
        "    else:\n",
        "      print('Green')\n",
        "      return\n",
        "\n",
        "  print('Green')\n",
        "  "
      ],
      "metadata": {
        "id": "yDPAwI9ve1s3"
      },
      "execution_count": null,
      "outputs": []
    },
    {
      "cell_type": "code",
      "source": [
        "def generate_circles(image, annotation):\n",
        "\n",
        "  img = cv2.imread(image, 0)[annotation[1]: annotation[3], annotation[0]: annotation[2]]\n",
        "  cimg = cv2.cvtColor(img,cv2.COLOR_GRAY2BGR)\n",
        "  \n",
        " \n",
        "  circles = cv2.HoughCircles(img,cv2.HOUGH_GRADIENT,1, 0.07 * img.shape[0], param1=30,param2=0.06 * img.shape[0],\n",
        "                             minRadius= int(0.065*img.shape[0]), maxRadius= int(0.2 *img.shape[0]))\n",
        "  \n",
        "  if(circles is None):\n",
        "    return None\n",
        "  \n",
        "  \n",
        "  circles = np.uint16(np.around(circles))\n",
        "\n",
        "  circles = circle_filter(img, circles)\n",
        " \n",
        "  for i in circles[0,:]:\n",
        "    # draw the outer circle\n",
        "    cv2.circle(cimg,(i[0],i[1]),i[2],(0,255,0),2)\n",
        "    # draw the center of the circle\n",
        "    cv2.circle(cimg,(i[0],i[1]),2,(0,0,255),3)\n",
        "  \n",
        "  plt.figure()\n",
        "  plt.imshow(cimg)\n",
        "\n",
        "  return circles"
      ],
      "metadata": {
        "id": "ZqH1hQdOe4ji"
      },
      "execution_count": null,
      "outputs": []
    },
    {
      "cell_type": "code",
      "source": [
        "def circle_filter(image, circles):\n",
        "  \n",
        "  ret_circle = []\n",
        "\n",
        "  for i in circles[0, :]:\n",
        "      if(i[1] < 0.7 * image.shape[0] and i[0] > 0.15* image.shape[1] and i[0] < 0.85 * image.shape[1]):\n",
        "        ret_circle.append(i)\n",
        "\n",
        "  return np.expand_dims(np.asarray(ret_circle), axis=0)\n",
        "    \n"
      ],
      "metadata": {
        "id": "ZBHKvrn7Oi-5"
      },
      "execution_count": null,
      "outputs": []
    },
    {
      "cell_type": "code",
      "source": [
        "def check_red_helper(orig_image, boundaries, circle):\n",
        "    \n",
        "    y1 = int(circle[1] - circle[2])\n",
        "    y2 = int(circle[1] + circle[2])\n",
        "    x1 = int(circle[0] - circle[2])\n",
        "    x2 = int(circle[0] + circle[2])\n",
        "    \n",
        "    temp_image = orig_image[y1:y2, x1:x2]  \n",
        "    if(temp_image.shape[0] < 1 or temp_image.shape[1] < 1):\n",
        "      return False\n",
        "    \n",
        "    lower, upper = boundaries\n",
        "\t  # create NumPy arrays from the boundaries\n",
        "    lower = np.array(lower, dtype = \"uint8\")\n",
        "    upper = np.array(upper, dtype = \"uint8\")\n",
        "\t  # find the colors within the specified boundaries and apply\n",
        "\t  # the mask\n",
        "    mask = cv2.inRange(temp_image, lower, upper)\n",
        "    area = mask.shape[0] * mask.shape[1]\n",
        "    count = cv2.countNonZero(mask)\n",
        "    \n",
        "    if(count / area > 0.2):\n",
        "      return True\n",
        "    return False\n",
        "  "
      ],
      "metadata": {
        "id": "49CPoXsae7a6"
      },
      "execution_count": null,
      "outputs": []
    },
    {
      "cell_type": "code",
      "source": [
        "def check_red_yellow(orig_image, boundaries, circle):\n",
        "\n",
        "  ret_val = check_red_helper(orig_image, boundaries, circle)\n",
        "\n",
        "  if(ret_val):\n",
        "    return True\n",
        "  \n",
        "  return False"
      ],
      "metadata": {
        "id": "d-3BE37Le_vN"
      },
      "execution_count": null,
      "outputs": []
    },
    {
      "cell_type": "code",
      "source": [
        "annotation = [450, 581, 796, 1089]\n",
        "image = 'Test_Imgs/color404_0.png'\n",
        "main(image, annotation)"
      ],
      "metadata": {
        "id": "2iXd4hOgBa7c"
      },
      "execution_count": null,
      "outputs": []
    }
  ]
}